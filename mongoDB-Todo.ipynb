{
 "cells": [
  {
   "cell_type": "markdown",
   "metadata": {},
   "source": [
    "# MongoDB\n",
    "\n",
    "Based on https://docs.mongodb.com/getting-started \n"
   ]
  },
  {
   "cell_type": "markdown",
   "metadata": {},
   "source": [
    "MongoDB is a **NoSQL** open-source **document database**.  MongoDB provides horizontal scaling by replicating and partitioning the data over multiple nodes. This can improve the reliability and scalability of the system.\n",
    "\n",
    "A record in MongoDB is a **document**, which is a data structure composed of field and value pairs. MongoDB documents are similar to JSON objects or Python dictionaries. The values of fields may include other documents, arrays, and arrays of documents.\n",
    "\n",
    "This is an example of a document:\n",
    "```JSON\n",
    "{\n",
    "   \"_id\" : ObjectId(\"54c955492b7c8eb21818bd09\"),\n",
    "   \"address\" : {\n",
    "      \"street\" : \"2 Avenue\",\n",
    "      \"zipcode\" : \"10075\",\n",
    "      \"building\" : \"1480\",\n",
    "      \"coord\" : [ -73.9557413, 40.7720266 ]\n",
    "   },\n",
    "   \"borough\" : \"Manhattan\",\n",
    "   \"cuisine\" : \"Italian\",\n",
    "   \"grades\" : [\n",
    "      {\n",
    "         \"date\" : ISODate(\"2014-10-01T00:00:00Z\"),\n",
    "         \"grade\" : \"A\",\n",
    "         \"score\" : 11\n",
    "      },\n",
    "      {\n",
    "         \"date\" : ISODate(\"2014-01-16T00:00:00Z\"),\n",
    "         \"grade\" : \"B\",\n",
    "         \"score\" : 17\n",
    "      }\n",
    "   ],\n",
    "   \"name\" : \"Vella\",\n",
    "   \"restaurant_id\" : \"41704620\"\n",
    "}\n",
    "```\n",
    "In MongoDB, documents have a unique **_id** field that acts as a primary key. MongoDB automatically adds a unique _id to each document if you are not providing it by yourself.\n",
    "\n",
    "MongoDB stores documents in **collections**. Collections are analogous to tables in relational databases. Unlike a table, however, a collection does not require its documents to have the same schema.\n",
    "\n",
    "You can start a Docker image with MongoDB like this:\n",
    "```bash\n",
    "docker run -p 27017:27017 -d mongo\n",
    "```\n",
    "\n",
    "In production you really (!) would need to enable authentication with username and password, but for development purposes this is fine."
   ]
  },
  {
   "cell_type": "code",
   "execution_count": 1,
   "metadata": {},
   "outputs": [
    {
     "name": "stdout",
     "output_type": "stream",
     "text": [
      "Collecting pymongo\n",
      "  Downloading pymongo-4.1.1-cp38-cp38-win_amd64.whl (365 kB)\n",
      "Installing collected packages: pymongo\n",
      "Successfully installed pymongo-4.1.1\n"
     ]
    }
   ],
   "source": [
    "# Install the pymongo Python Package \n",
    "!pip3 install pymongo"
   ]
  },
  {
   "cell_type": "code",
   "execution_count": 2,
   "metadata": {},
   "outputs": [],
   "source": [
    "from pymongo import MongoClient\n",
    "from pprint import pprint\n",
    "import requests "
   ]
  },
  {
   "cell_type": "markdown",
   "metadata": {},
   "source": [
    "Use MongoClient to create a connection. If you do not specify any arguments to MongoClient, then MongoClient defaults to the MongoDB instance that runs on the localhost interface on port 27017. You can also specify a complete MongoDB URI to define the connection, including explicitly specifying the host and port number. For example, the following creates a connection to a MongoDB instance that runs on mongodb0.example.net and the port of 27017: client = MongoClient(\"mongodb://mongodb0.example.net:27017\")"
   ]
  },
  {
   "cell_type": "code",
   "execution_count": 6,
   "metadata": {},
   "outputs": [],
   "source": [
    "# Client connects to \"localhost\" by default \n",
    "client = MongoClient()"
   ]
  },
  {
   "cell_type": "markdown",
   "metadata": {},
   "source": [
    "The first fundamental class of objects you will interact with using pymongo is Database which represents the database construct in MongoDB. Databases hold groups of logically related collections. MongoDB creates new databases implicitly upon their first use. Connect (create) with a database of your name, e.g. \n",
    "\n",
    "```python\n",
    "db = client[\"rolandmueller\"]\n",
    "``` \n",
    "or \n",
    "\n",
    "```python\n",
    "db = client.rolandmueller\n",
    "```"
   ]
  },
  {
   "cell_type": "code",
   "execution_count": 7,
   "metadata": {},
   "outputs": [],
   "source": [
    "# Create local \"bipm\" database on the fly \n",
    "db = client['bipm']"
   ]
  },
  {
   "cell_type": "code",
   "execution_count": 8,
   "metadata": {},
   "outputs": [],
   "source": [
    "# When we rerun the whole notebook, we start from scratch \n",
    "# by dropping the colection \"courses\"\n",
    "db.courses.drop()"
   ]
  },
  {
   "cell_type": "code",
   "execution_count": 9,
   "metadata": {},
   "outputs": [],
   "source": [
    "# Create a Python Dictonary\n",
    "courses = [\n",
    "    {'title': 'Data Science',\n",
    "     'lecturer': {\n",
    "         'name': 'Markus Löcher',\n",
    "         'department': 'Math',\n",
    "         'status': 'Professor'\n",
    "     },\n",
    "     'semester': 1},\n",
    "    {'title': 'Data Warehousing',\n",
    "     'lecturer': {\n",
    "         'name': 'Roland M. Mueller',\n",
    "         'department': 'Information Systems',\n",
    "         'status': 'Professor'\n",
    "     },\n",
    "     'semester': 1},\n",
    "    {'title': 'Business Process Management',\n",
    "     'lecturer': {\n",
    "         'name': 'Frank Habermann',\n",
    "         'department': 'Information Systems',\n",
    "         'status': 'Professor'\n",
    "     },\n",
    "     'semester': 1},\n",
    "    {'title': 'Stratigic Issues of IT',\n",
    "     'lecturer': {\n",
    "         'name': 'Sven Pohland',\n",
    "         'department': 'Information Systems',\n",
    "         'status': 'Professor'\n",
    "     },\n",
    "     'semester': 1},\n",
    "    {'title': 'Text, Web and Social Media Analytics Lab',\n",
    "     'lecturer': {\n",
    "         'name': 'Markus Löcher',\n",
    "         'department': 'Math',\n",
    "         'status': 'Professor'\n",
    "     },\n",
    "     'semester': 2},\n",
    "    {'title': 'Enterprise Architectures for Big Data',\n",
    "     'lecturer': {\n",
    "         'name': 'Roland M. Mueller',\n",
    "         'department': 'Information Systems',\n",
    "         'status': 'Professor'\n",
    "     },\n",
    "     'semester': 2},\n",
    "    {'title': 'Business Process Integration Lab',\n",
    "     'lecturer': {\n",
    "         'name': 'Frank Habermann',\n",
    "         'department': 'Information Systems',\n",
    "         'status': 'Professor'\n",
    "     },\n",
    "     'semester': 2},\n",
    "    {'title': 'IT-Security and Privacy',\n",
    "     'lecturer': {\n",
    "         'name': 'Dennis Uckel',\n",
    "         'department': 'Information Systems',\n",
    "         'status': 'External'\n",
    "     },\n",
    "     'semester': 2},\n",
    "    {'title': 'Research Methods',\n",
    "     'lecturer': {\n",
    "         'name': 'Marcus Birkenkrahe',\n",
    "         'department': 'Information Systems',\n",
    "         'status': 'Professor'\n",
    "     },\n",
    "     'semester': 2},\n",
    "]"
   ]
  },
  {
   "cell_type": "code",
   "execution_count": 10,
   "metadata": {},
   "outputs": [
    {
     "name": "stdout",
     "output_type": "stream",
     "text": [
      "[{'lecturer': {'department': 'Math',\n",
      "               'name': 'Markus Löcher',\n",
      "               'status': 'Professor'},\n",
      "  'semester': 1,\n",
      "  'title': 'Data Science'},\n",
      " {'lecturer': {'department': 'Information Systems',\n",
      "               'name': 'Roland M. Mueller',\n",
      "               'status': 'Professor'},\n",
      "  'semester': 1,\n",
      "  'title': 'Data Warehousing'},\n",
      " {'lecturer': {'department': 'Information Systems',\n",
      "               'name': 'Frank Habermann',\n",
      "               'status': 'Professor'},\n",
      "  'semester': 1,\n",
      "  'title': 'Business Process Management'},\n",
      " {'lecturer': {'department': 'Information Systems',\n",
      "               'name': 'Sven Pohland',\n",
      "               'status': 'Professor'},\n",
      "  'semester': 1,\n",
      "  'title': 'Stratigic Issues of IT'},\n",
      " {'lecturer': {'department': 'Math',\n",
      "               'name': 'Markus Löcher',\n",
      "               'status': 'Professor'},\n",
      "  'semester': 2,\n",
      "  'title': 'Text, Web and Social Media Analytics Lab'},\n",
      " {'lecturer': {'department': 'Information Systems',\n",
      "               'name': 'Roland M. Mueller',\n",
      "               'status': 'Professor'},\n",
      "  'semester': 2,\n",
      "  'title': 'Enterprise Architectures for Big Data'},\n",
      " {'lecturer': {'department': 'Information Systems',\n",
      "               'name': 'Frank Habermann',\n",
      "               'status': 'Professor'},\n",
      "  'semester': 2,\n",
      "  'title': 'Business Process Integration Lab'},\n",
      " {'lecturer': {'department': 'Information Systems',\n",
      "               'name': 'Dennis Uckel',\n",
      "               'status': 'External'},\n",
      "  'semester': 2,\n",
      "  'title': 'IT-Security and Privacy'},\n",
      " {'lecturer': {'department': 'Information Systems',\n",
      "               'name': 'Marcus Birkenkrahe',\n",
      "               'status': 'Professor'},\n",
      "  'semester': 2,\n",
      "  'title': 'Research Methods'}]\n"
     ]
    }
   ],
   "source": [
    "pprint(courses)"
   ]
  },
  {
   "cell_type": "markdown",
   "metadata": {},
   "source": [
    "## insert_many()\n",
    "\n",
    "You can use the `insert_one()` method and the `insert_many()` method to add documents to a collection in MongoDB. If you attempt to add documents to a collection that does not exist, MongoDB will create the collection for you."
   ]
  },
  {
   "cell_type": "code",
   "execution_count": 11,
   "metadata": {},
   "outputs": [
    {
     "data": {
      "text/plain": [
       "<pymongo.results.InsertManyResult at 0x279cfec1040>"
      ]
     },
     "execution_count": 11,
     "metadata": {},
     "output_type": "execute_result"
    }
   ],
   "source": [
    "db.courses.insert_many(courses)"
   ]
  },
  {
   "cell_type": "markdown",
   "metadata": {},
   "source": [
    "## find()\n",
    "\n",
    "You can use the find() method to issue a query to retrieve data from a collection in MongoDB. All queries in MongoDB have the scope of a single collection.\n",
    "Queries can return all documents in a collection or only the documents that match a specified filter or criteria. You can specify the filter or criteria in a document and pass as a parameter to the find() method. With no parameter, find() returns all documents in the collection.\n",
    "\n",
    "The find() method returns query results in a cursor, which is an iterable object that yields documents. Then you can print all documents.\n",
    "\n",
    "```python\n",
    "cursor = db.my_collection.find()\n",
    "\n",
    "for document in cursor:\n",
    "    pprint(document)\n",
    "```\n"
   ]
  },
  {
   "cell_type": "code",
   "execution_count": 17,
   "metadata": {},
   "outputs": [
    {
     "name": "stdout",
     "output_type": "stream",
     "text": [
      "{'_id': ObjectId('6290950545ef6f6a07e16ada'),\n",
      " 'lecturer': {'department': 'Math',\n",
      "              'name': 'Markus Löcher',\n",
      "              'status': 'Professor'},\n",
      " 'semester': 1,\n",
      " 'title': 'Data Science'}\n",
      "{'_id': ObjectId('6290950545ef6f6a07e16adb'),\n",
      " 'lecturer': {'department': 'Information Systems',\n",
      "              'name': 'Roland M. Mueller',\n",
      "              'status': 'Professor'},\n",
      " 'semester': 1,\n",
      " 'title': 'Data Warehousing'}\n",
      "{'_id': ObjectId('6290950545ef6f6a07e16adc'),\n",
      " 'lecturer': {'department': 'Information Systems',\n",
      "              'name': 'Frank Habermann',\n",
      "              'status': 'Professor'},\n",
      " 'semester': 1,\n",
      " 'title': 'Business Process Management'}\n",
      "{'_id': ObjectId('6290950545ef6f6a07e16add'),\n",
      " 'lecturer': {'department': 'Information Systems',\n",
      "              'name': 'Sven Pohland',\n",
      "              'status': 'Professor'},\n",
      " 'semester': 1,\n",
      " 'title': 'Stratigic Issues of IT'}\n",
      "{'_id': ObjectId('6290950545ef6f6a07e16ade'),\n",
      " 'lecturer': {'department': 'Math',\n",
      "              'name': 'Markus Löcher',\n",
      "              'status': 'Professor'},\n",
      " 'semester': 2,\n",
      " 'title': 'Text, Web and Social Media Analytics Lab'}\n",
      "{'_id': ObjectId('6290950545ef6f6a07e16adf'),\n",
      " 'lecturer': {'department': 'Information Systems',\n",
      "              'name': 'Roland M. Mueller',\n",
      "              'status': 'Professor'},\n",
      " 'semester': 2,\n",
      " 'title': 'Enterprise Architectures for Big Data'}\n",
      "{'_id': ObjectId('6290950545ef6f6a07e16ae0'),\n",
      " 'lecturer': {'department': 'Information Systems',\n",
      "              'name': 'Frank Habermann',\n",
      "              'status': 'Professor'},\n",
      " 'semester': 2,\n",
      " 'title': 'Business Process Integration Lab'}\n",
      "{'_id': ObjectId('6290950545ef6f6a07e16ae1'),\n",
      " 'lecturer': {'department': 'Information Systems',\n",
      "              'name': 'Dennis Uckel',\n",
      "              'status': 'External'},\n",
      " 'semester': 2,\n",
      " 'title': 'IT-Security and Privacy'}\n",
      "{'_id': ObjectId('6290950545ef6f6a07e16ae2'),\n",
      " 'lecturer': {'department': 'Information Systems',\n",
      "              'name': 'Marcus Birkenkrahe',\n",
      "              'status': 'Professor'},\n",
      " 'semester': 2,\n",
      " 'title': 'Research Methods'}\n"
     ]
    }
   ],
   "source": [
    "# TODO: Print all courses\n",
    "cursor = db.courses.find()\n",
    "for document in cursor:\n",
    "    pprint(document)"
   ]
  },
  {
   "cell_type": "markdown",
   "metadata": {},
   "source": [
    "## JSON\n",
    "\n",
    "You can store a JSON document if you convert it before to a Python dictionary:"
   ]
  },
  {
   "cell_type": "code",
   "execution_count": 19,
   "metadata": {},
   "outputs": [],
   "source": [
    "import json"
   ]
  },
  {
   "cell_type": "code",
   "execution_count": 20,
   "metadata": {},
   "outputs": [
    {
     "data": {
      "text/plain": [
       "{'title': 'Master Thesis', 'semester': 3}"
      ]
     },
     "execution_count": 20,
     "metadata": {},
     "output_type": "execute_result"
    }
   ],
   "source": [
    "my_json = '{\"title\": \"Master Thesis\", \"semester\": 3}'\n",
    "another_course = json.loads(my_json)\n",
    "another_course"
   ]
  },
  {
   "cell_type": "markdown",
   "metadata": {},
   "source": [
    "## insert_one()\n",
    "\n",
    "The `insert_one()` method adds the document into the collection.\n"
   ]
  },
  {
   "cell_type": "code",
   "execution_count": 21,
   "metadata": {},
   "outputs": [
    {
     "data": {
      "text/plain": [
       "<pymongo.results.InsertOneResult at 0x279cf4dfcd0>"
      ]
     },
     "execution_count": 21,
     "metadata": {},
     "output_type": "execute_result"
    }
   ],
   "source": [
    "# TODO: Store `another_course` as another course:\n",
    "db.courses.insert_one(another_course)"
   ]
  },
  {
   "cell_type": "code",
   "execution_count": 22,
   "metadata": {},
   "outputs": [
    {
     "name": "stdout",
     "output_type": "stream",
     "text": [
      "{'_id': ObjectId('6290950545ef6f6a07e16ada'),\n",
      " 'lecturer': {'department': 'Math',\n",
      "              'name': 'Markus Löcher',\n",
      "              'status': 'Professor'},\n",
      " 'semester': 1,\n",
      " 'title': 'Data Science'}\n",
      "{'_id': ObjectId('6290950545ef6f6a07e16adb'),\n",
      " 'lecturer': {'department': 'Information Systems',\n",
      "              'name': 'Roland M. Mueller',\n",
      "              'status': 'Professor'},\n",
      " 'semester': 1,\n",
      " 'title': 'Data Warehousing'}\n",
      "{'_id': ObjectId('6290950545ef6f6a07e16adc'),\n",
      " 'lecturer': {'department': 'Information Systems',\n",
      "              'name': 'Frank Habermann',\n",
      "              'status': 'Professor'},\n",
      " 'semester': 1,\n",
      " 'title': 'Business Process Management'}\n",
      "{'_id': ObjectId('6290950545ef6f6a07e16add'),\n",
      " 'lecturer': {'department': 'Information Systems',\n",
      "              'name': 'Sven Pohland',\n",
      "              'status': 'Professor'},\n",
      " 'semester': 1,\n",
      " 'title': 'Stratigic Issues of IT'}\n",
      "{'_id': ObjectId('6290950545ef6f6a07e16ade'),\n",
      " 'lecturer': {'department': 'Math',\n",
      "              'name': 'Markus Löcher',\n",
      "              'status': 'Professor'},\n",
      " 'semester': 2,\n",
      " 'title': 'Text, Web and Social Media Analytics Lab'}\n",
      "{'_id': ObjectId('6290950545ef6f6a07e16adf'),\n",
      " 'lecturer': {'department': 'Information Systems',\n",
      "              'name': 'Roland M. Mueller',\n",
      "              'status': 'Professor'},\n",
      " 'semester': 2,\n",
      " 'title': 'Enterprise Architectures for Big Data'}\n",
      "{'_id': ObjectId('6290950545ef6f6a07e16ae0'),\n",
      " 'lecturer': {'department': 'Information Systems',\n",
      "              'name': 'Frank Habermann',\n",
      "              'status': 'Professor'},\n",
      " 'semester': 2,\n",
      " 'title': 'Business Process Integration Lab'}\n",
      "{'_id': ObjectId('6290950545ef6f6a07e16ae1'),\n",
      " 'lecturer': {'department': 'Information Systems',\n",
      "              'name': 'Dennis Uckel',\n",
      "              'status': 'External'},\n",
      " 'semester': 2,\n",
      " 'title': 'IT-Security and Privacy'}\n",
      "{'_id': ObjectId('6290950545ef6f6a07e16ae2'),\n",
      " 'lecturer': {'department': 'Information Systems',\n",
      "              'name': 'Marcus Birkenkrahe',\n",
      "              'status': 'Professor'},\n",
      " 'semester': 2,\n",
      " 'title': 'Research Methods'}\n",
      "{'_id': ObjectId('6290966d45ef6f6a07e16ae3'),\n",
      " 'semester': 3,\n",
      " 'title': 'Master Thesis'}\n"
     ]
    }
   ],
   "source": [
    "# TODO: Print all courses\n",
    "cursor = db.courses.find()\n",
    "for document in cursor:\n",
    "    pprint(document)"
   ]
  },
  {
   "cell_type": "markdown",
   "metadata": {},
   "source": [
    "## find_one() and find()\n",
    "\n",
    "`find_one()` returns the first match. ```find()```returns all matches.\n",
    "\n",
    "The query condition for `find_one()` and `find()` for an equality match on fields has the following form:\n",
    "```python\n",
    "{ <field1>: <value1>, <field2>: <value2>, ... } \n",
    "```\n",
    "\n",
    "The following operation finds the first documents whose name field equals \"Manhattan\".\n",
    "\n",
    "```python\n",
    "cursor = db.restaurants.find_one({\"name\": \"Manhattan\"})\n",
    "```\n"
   ]
  },
  {
   "cell_type": "code",
   "execution_count": 26,
   "metadata": {},
   "outputs": [
    {
     "name": "stdout",
     "output_type": "stream",
     "text": [
      "{'_id': ObjectId('6290950545ef6f6a07e16ada'),\n",
      " 'lecturer': {'department': 'Math',\n",
      "              'name': 'Markus Löcher',\n",
      "              'status': 'Professor'},\n",
      " 'semester': 1,\n",
      " 'title': 'Data Science'}\n"
     ]
    }
   ],
   "source": [
    "# TODO: Find the course with the title \"Data Science\" \n",
    "# save the result in a varibale result\n",
    "# and pprint the result.\n",
    "result = db.courses.find_one({'title':'Data Science'})\n",
    "pprint(result)"
   ]
  },
  {
   "cell_type": "code",
   "execution_count": 27,
   "metadata": {},
   "outputs": [
    {
     "name": "stdout",
     "output_type": "stream",
     "text": [
      "6290950545ef6f6a07e16ada\n",
      "Markus Löcher\n"
     ]
    }
   ],
   "source": [
    "print(result[\"_id\"])\n",
    "print(result[\"lecturer\"][\"name\"])"
   ]
  },
  {
   "cell_type": "code",
   "execution_count": 29,
   "metadata": {},
   "outputs": [
    {
     "name": "stdout",
     "output_type": "stream",
     "text": [
      "{'_id': ObjectId('6290950545ef6f6a07e16ade'),\n",
      " 'lecturer': {'department': 'Math',\n",
      "              'name': 'Markus Löcher',\n",
      "              'status': 'Professor'},\n",
      " 'semester': 2,\n",
      " 'title': 'Text, Web and Social Media Analytics Lab'}\n"
     ]
    }
   ],
   "source": [
    "# TODO: Find the first course (one course) in the second semester\n",
    "# and print it\n",
    "result = db.courses.find_one({'semester':2})\n",
    "pprint(result)"
   ]
  },
  {
   "cell_type": "code",
   "execution_count": 30,
   "metadata": {},
   "outputs": [
    {
     "name": "stdout",
     "output_type": "stream",
     "text": [
      "'Text, Web and Social Media Analytics Lab'\n",
      "'Enterprise Architectures for Big Data'\n",
      "'Business Process Integration Lab'\n",
      "'IT-Security and Privacy'\n",
      "'Research Methods'\n"
     ]
    }
   ],
   "source": [
    "# TODO: Find all courses in the second semester\n",
    "# and print the course titles\n",
    "cursor = db.courses.find({'semester':2})\n",
    "for document in cursor:\n",
    "    pprint(document['title'])"
   ]
  },
  {
   "cell_type": "code",
   "execution_count": 32,
   "metadata": {},
   "outputs": [
    {
     "name": "stdout",
     "output_type": "stream",
     "text": [
      "'Markus Löcher'\n",
      "'Roland M. Mueller'\n",
      "'Frank Habermann'\n",
      "'Dennis Uckel'\n",
      "'Marcus Birkenkrahe'\n"
     ]
    }
   ],
   "source": [
    "# TODO: Find all courses in the second semester\n",
    "# and print the lecturers names\n",
    "cursor = db.courses.find({'semester':2})\n",
    "for document in cursor:\n",
    "    pprint(document['lecturer']['name'])"
   ]
  },
  {
   "cell_type": "markdown",
   "metadata": {},
   "source": [
    "## Subelements\n",
    "\n",
    "Sometimes documents contains embedded documents as its elements. To specify a condition on a field in these documents, use the dot notation. Dot notation requires quotes around the whole dotted field name. The following queries for documents whose grades array contains an embedded document with a field grade equal to \"B\".\n",
    "\n",
    "```python\n",
    "cursor = db.restaurants.find({\"grades.grade\": \"B\"})\n",
    "```"
   ]
  },
  {
   "cell_type": "code",
   "execution_count": 46,
   "metadata": {},
   "outputs": [
    {
     "name": "stdout",
     "output_type": "stream",
     "text": [
      "Business Process Management 1\n",
      "Business Process Integration Lab 2\n"
     ]
    }
   ],
   "source": [
    "# TODO: Find all courses of Frank Habermann\n",
    "# and print the title and the semester\n",
    "cursor = db.courses.find({'lecturer.name':'Frank Habermann'})\n",
    "for document in cursor:\n",
    "    print(document['title'],document['semester'])"
   ]
  },
  {
   "cell_type": "markdown",
   "metadata": {},
   "source": [
    "## Logical AND\n",
    "\n",
    "You can specify a logical conjunction (AND) for a list of query conditions by separating the conditions with a comma in the conditions document.\n",
    "\n",
    "```python\n",
    "cursor = db.restaurants.find({\"cuisine\": \"Italian\", \"address.zipcode\": \"10075\"})\n",
    "```"
   ]
  },
  {
   "cell_type": "code",
   "execution_count": 47,
   "metadata": {},
   "outputs": [
    {
     "name": "stdout",
     "output_type": "stream",
     "text": [
      "Business Process Integration Lab 2\n"
     ]
    }
   ],
   "source": [
    "# TODO: Find all courses from Frank Habermann in the second semester\n",
    "# and print the title and the semester\n",
    "cursor = db.courses.find({'lecturer.name':'Frank Habermann','semester':2})\n",
    "for document in cursor:\n",
    "    print(document['title'],document['semester'])"
   ]
  },
  {
   "cell_type": "markdown",
   "metadata": {},
   "source": [
    "## Logical OR\n",
    "\n",
    "You can specify a logical disjunction (OR) for a list of query conditions by using the $or query operator.\n",
    "\n",
    "```python\n",
    "cursor = db.restaurants.find({\"$or\": [{\"cuisine\": \"Italian\"}, {\"address.zipcode\": \"10075\"}]})\n",
    "```\n"
   ]
  },
  {
   "cell_type": "code",
   "execution_count": 53,
   "metadata": {
    "scrolled": true
   },
   "outputs": [
    {
     "name": "stdout",
     "output_type": "stream",
     "text": [
      "Data Science 1\n",
      "Business Process Management 1\n",
      "Text, Web and Social Media Analytics Lab 2\n",
      "Business Process Integration Lab 2\n"
     ]
    }
   ],
   "source": [
    "# TODO: Find all courses from Frank Habermann or Markus Löcher\n",
    "# and print the title and the semester\n",
    "cursor = db.courses.find({'$or':[{'lecturer.name':'Frank Habermann'},{'lecturer.name':'Markus Löcher'}]})\n",
    "for document in cursor:\n",
    "    print(document['title'],document['semester'])"
   ]
  },
  {
   "cell_type": "markdown",
   "metadata": {},
   "source": [
    "## Greater than, Less than\n",
    "\n",
    "MongoDB provides operators to specify query conditions, such as comparison operators. Query conditions using operators generally have the following form:\n",
    "```python\n",
    "{ <field1>: { <operator1>: <value1> } }\n",
    "```\n",
    "\n",
    "Greater Than Operator (`$gt`). Query for documents whose grades array contains an embedded document with a field score greater than 30.\n",
    "\n",
    "```python\n",
    "cursor = db.restaurants.find({\"grades.score\": {\"$gt\": 30}})\n",
    "```\n",
    "\n",
    "Less Than Operator (`$lt`). Query for documents whose grades array contains an embedded document with a field score less than 10.\n",
    "\n",
    "```python\n",
    "cursor = db.restaurants.find({\"grades.score\": {\"$lt\": 10}})\n",
    "```\n",
    "\n"
   ]
  },
  {
   "cell_type": "code",
   "execution_count": 55,
   "metadata": {
    "scrolled": true
   },
   "outputs": [
    {
     "name": "stdout",
     "output_type": "stream",
     "text": [
      "Text, Web and Social Media Analytics Lab\n",
      "Enterprise Architectures for Big Data\n",
      "Business Process Integration Lab\n",
      "IT-Security and Privacy\n",
      "Research Methods\n",
      "Master Thesis\n"
     ]
    }
   ],
   "source": [
    "# TODO: Find all courses in semester greater than 1\n",
    "# and print the title and the semester\n",
    "cursor = db.courses.find({'semester':{'$gt':1}})\n",
    "for document in cursor:\n",
    "    print(document['title'])"
   ]
  },
  {
   "cell_type": "markdown",
   "metadata": {},
   "source": [
    "## Counting\n",
    "\n",
    "`count_documents()` works like `find()` but returns the number of matched documents-"
   ]
  },
  {
   "cell_type": "code",
   "execution_count": 57,
   "metadata": {},
   "outputs": [
    {
     "data": {
      "text/plain": [
       "5"
      ]
     },
     "execution_count": 57,
     "metadata": {},
     "output_type": "execute_result"
    }
   ],
   "source": [
    "# TODO: How many courses are in the second semester?\n",
    "cursor = db.courses.count_documents({'semester':2})\n",
    "cursor"
   ]
  },
  {
   "cell_type": "markdown",
   "metadata": {},
   "source": [
    "# Downloading Nobel Prize Winners with an API and storing them in MongoDB\n",
    "\n",
    "![](https://upload.wikimedia.org/wikipedia/en/e/ed/Nobel_Prize.png)\n",
    "The Nobel Prize offers a Web API https://nobelprize.readme.io/docs/prize\n",
    "\n",
    "Because the API is giving us JSON and MongoDB is able to store documents in a JSON-like format, using a document database like MongoDB seems like a good fit to store the results of the API.  You can get all laureates at http://api.nobelprize.org/v1/laureate.json and all prizes at http://api.nobelprize.org/v1/prize.json\n",
    "\n",
    "We will just download all laureates and prizes and store them in MongoDB!"
   ]
  },
  {
   "cell_type": "code",
   "execution_count": 58,
   "metadata": {},
   "outputs": [],
   "source": [
    "# Create local \"nobel\" database on the fly \n",
    "db = client[\"nobel\"]\n",
    "db.prizes.drop()\n",
    "db.laureates.drop()\n",
    "# API documented at https://nobelprize.readme.io/docs/prize \n",
    "for collection_name in [\"prizes\", \"laureates\"]:\n",
    "    singular = collection_name[:-1] # the API uses singular\n",
    "    response = requests.get( \"http://api.nobelprize.org/v1/{}.json\".format(singular)) \n",
    "    documents = response.json()[collection_name] \n",
    "    # Create collections on the fly \n",
    "    db[collection_name].insert_many(documents)"
   ]
  },
  {
   "cell_type": "code",
   "execution_count": 59,
   "metadata": {},
   "outputs": [
    {
     "name": "stdout",
     "output_type": "stream",
     "text": [
      "{'_id': ObjectId('62909dbe45ef6f6a07e16d76'),\n",
      " 'born': '1845-03-27',\n",
      " 'bornCity': 'Lennep (now Remscheid)',\n",
      " 'bornCountry': 'Prussia (now Germany)',\n",
      " 'bornCountryCode': 'DE',\n",
      " 'died': '1923-02-10',\n",
      " 'diedCity': 'Munich',\n",
      " 'diedCountry': 'Germany',\n",
      " 'diedCountryCode': 'DE',\n",
      " 'firstname': 'Wilhelm Conrad',\n",
      " 'gender': 'male',\n",
      " 'id': '1',\n",
      " 'prizes': [{'affiliations': [{'city': 'Munich',\n",
      "                               'country': 'Germany',\n",
      "                               'name': 'Munich University'}],\n",
      "             'category': 'physics',\n",
      "             'motivation': '\"in recognition of the extraordinary services he '\n",
      "                           'has rendered by the discovery of the remarkable '\n",
      "                           'rays subsequently named after him\"',\n",
      "             'share': '1',\n",
      "             'year': '1901'}],\n",
      " 'surname': 'Röntgen'}\n"
     ]
    }
   ],
   "source": [
    "pprint(db.laureates.find_one())"
   ]
  },
  {
   "cell_type": "code",
   "execution_count": 61,
   "metadata": {},
   "outputs": [
    {
     "name": "stdout",
     "output_type": "stream",
     "text": [
      "'Wilhelm Conrad'\n"
     ]
    }
   ],
   "source": [
    "# TODO: Print the first name of the first document\n",
    "pprint(db.laureates.find_one()['firstname'])"
   ]
  },
  {
   "cell_type": "markdown",
   "metadata": {},
   "source": [
    "With `count_documents` you can count the number of matching documents. "
   ]
  },
  {
   "cell_type": "code",
   "execution_count": 64,
   "metadata": {},
   "outputs": [
    {
     "data": {
      "text/plain": [
       "58"
      ]
     },
     "execution_count": 64,
     "metadata": {},
     "output_type": "execute_result"
    }
   ],
   "source": [
    "# How many female laureates exists? \n",
    "db.laureates.count_documents({'gender':'female'})"
   ]
  },
  {
   "cell_type": "markdown",
   "metadata": {},
   "source": [
    "With the `$regex` function you can use a regular expression. `distinct` list only all distinct entries."
   ]
  },
  {
   "cell_type": "code",
   "execution_count": 65,
   "metadata": {},
   "outputs": [
    {
     "data": {
      "text/plain": [
       "['Bavaria (now Germany)',\n",
       " 'East Friesland (now Germany)',\n",
       " 'Germany',\n",
       " 'Germany (now France)',\n",
       " 'Germany (now Poland)',\n",
       " 'Germany (now Russia)',\n",
       " 'Hesse-Kassel (now Germany)',\n",
       " 'Mecklenburg (now Germany)',\n",
       " 'Prussia (now Germany)',\n",
       " 'Schleswig (now Germany)',\n",
       " 'West Germany (now Germany)',\n",
       " 'Württemberg (now Germany)']"
      ]
     },
     "execution_count": 65,
     "metadata": {},
     "output_type": "execute_result"
    }
   ],
   "source": [
    "db.laureates.distinct(\"bornCountry\", {\"bornCountry\": {\"$regex\": \"Germany\"}})"
   ]
  },
  {
   "cell_type": "code",
   "execution_count": 66,
   "metadata": {},
   "outputs": [
    {
     "data": {
      "text/plain": [
       "97"
      ]
     },
     "execution_count": 66,
     "metadata": {},
     "output_type": "execute_result"
    }
   ],
   "source": [
    "# TODO: How many laureates are from Germany?\n",
    "db.laureates.count_documents({'bornCountry':{\"$regex\": \"Germany\"}})"
   ]
  },
  {
   "cell_type": "code",
   "execution_count": 69,
   "metadata": {},
   "outputs": [
    {
     "name": "stdout",
     "output_type": "stream",
     "text": [
      "Wilhelm Conrad Röntgen\n",
      "Ferdinand Braun\n",
      "Max von Laue\n",
      "Max Planck\n",
      "Johannes Stark\n",
      "Albert Einstein\n",
      "James Franck\n",
      "Gustav Hertz\n",
      "Werner Heisenberg\n",
      "Otto Stern\n",
      "Max Born\n",
      "Walther Bothe\n",
      "Polykarp Kusch\n",
      "Rudolf Mössbauer\n",
      "Maria Goeppert Mayer\n",
      "J. Hans D. Jensen\n",
      "Alfred Kastler\n",
      "Hans Bethe\n",
      "Arno Penzias\n",
      "Ernst Ruska\n",
      "Gerd Binnig\n",
      "J. Georg Bednorz\n",
      "Jack Steinberger\n",
      "Hans G. Dehmelt\n",
      "Wolfgang Paul\n",
      "Horst L. Störmer\n",
      "Herbert Kroemer\n",
      "Wolfgang Ketterle\n",
      "Theodor W. Hänsch\n",
      "Rainer Weiss\n",
      "Reinhard Genzel\n",
      "Klaus Hasselmann\n"
     ]
    }
   ],
   "source": [
    "# TODO: Find all physics nobel laureates that are from Germany\n",
    "# print the year of the first prize, the first name, and surename\n",
    "cursor = db.laureates.find({'bornCountry':{\"$regex\": \"Germany\"},'prizes.category':'physics'})\n",
    "for document in cursor:\n",
    "    print(document['firstname'],document['surname'])"
   ]
  },
  {
   "cell_type": "code",
   "execution_count": 72,
   "metadata": {
    "scrolled": true
   },
   "outputs": [
    {
     "name": "stdout",
     "output_type": "stream",
     "text": [
      "{'_id': ObjectId('62909dbe45ef6f6a07e170e6'),\n",
      " 'born': '1997-07-12',\n",
      " 'bornCity': 'Mingora',\n",
      " 'bornCountry': 'Pakistan',\n",
      " 'bornCountryCode': 'PK',\n",
      " 'died': '0000-00-00',\n",
      " 'firstname': 'Malala',\n",
      " 'gender': 'female',\n",
      " 'id': '914',\n",
      " 'prizes': [{'affiliations': [[]],\n",
      "             'category': 'peace',\n",
      "             'motivation': '\"for their struggle against the suppression of '\n",
      "                           'children and young people and for the right of all '\n",
      "                           'children to education\"',\n",
      "             'share': '2',\n",
      "             'year': '2014'}],\n",
      " 'surname': 'Yousafzai'}\n"
     ]
    }
   ],
   "source": [
    "# TODO: find and print the document for \"Malala\" (firstname)\n",
    "cursor = db.laureates.find({'firstname':'Malala'})\n",
    "for document in cursor:\n",
    "    pprint(document)"
   ]
  },
  {
   "cell_type": "markdown",
   "metadata": {},
   "source": [
    "## Sort()\n",
    "\n",
    "With `sort()` you can sort the list of documents. The parameter of sort is a list of sorting tuples. Each tuple is a value and an integer value 1 or -1 which states whether the collection to be sorted in ascending (1) or descending (-1) order.\n",
    "\n",
    "Sort all restaurants according to the grade in ascending order.\n",
    "```python\n",
    "cursor = db.restaurants.find().sort([(\"grades.grade\", 1)])\n",
    "```"
   ]
  },
  {
   "cell_type": "code",
   "execution_count": 95,
   "metadata": {},
   "outputs": [
    {
     "name": "stdout",
     "output_type": "stream",
     "text": [
      "{'_id': ObjectId('62909dbe45ef6f6a07e16d7b'),\n",
      " 'firstname': 'Marie',\n",
      " 'prizes': [{'year': '1903'}, {'year': '1911'}],\n",
      " 'surname': 'Curie'}\n",
      "{'_id': ObjectId('62909dbe45ef6f6a07e16f44'),\n",
      " 'firstname': 'Bertha',\n",
      " 'prizes': [{'year': '1905'}],\n",
      " 'surname': 'von Suttner'}\n",
      "{'_id': ObjectId('62909dbe45ef6f6a07e16fad'),\n",
      " 'firstname': 'Selma',\n",
      " 'prizes': [{'year': '1909'}],\n",
      " 'surname': 'Lagerlöf'}\n",
      "{'_id': ObjectId('62909dbe45ef6f6a07e16fbd'),\n",
      " 'firstname': 'Grazia',\n",
      " 'prizes': [{'year': '1926'}],\n",
      " 'surname': 'Deledda'}\n",
      "{'_id': ObjectId('62909dbe45ef6f6a07e16fbf'),\n",
      " 'firstname': 'Sigrid',\n",
      " 'prizes': [{'year': '1928'}],\n",
      " 'surname': 'Undset'}\n",
      "{'_id': ObjectId('62909dbe45ef6f6a07e16f5f'),\n",
      " 'firstname': 'Jane',\n",
      " 'prizes': [{'year': '1931'}],\n",
      " 'surname': 'Addams'}\n",
      "{'_id': ObjectId('62909dbe45ef6f6a07e16e33'),\n",
      " 'firstname': 'Irène',\n",
      " 'prizes': [{'year': '1935'}],\n",
      " 'surname': 'Joliot-Curie'}\n",
      "{'_id': ObjectId('62909dbe45ef6f6a07e16fc8'),\n",
      " 'firstname': 'Pearl',\n",
      " 'prizes': [{'year': '1938'}],\n",
      " 'surname': 'Buck'}\n",
      "{'_id': ObjectId('62909dbe45ef6f6a07e16fcb'),\n",
      " 'firstname': 'Gabriela',\n",
      " 'prizes': [{'year': '1945'}],\n",
      " 'surname': 'Mistral'}\n",
      "{'_id': ObjectId('62909dbe45ef6f6a07e16f68'),\n",
      " 'firstname': 'Emily Greene',\n",
      " 'prizes': [{'year': '1946'}],\n",
      " 'surname': 'Balch'}\n",
      "{'_id': ObjectId('62909dbe45ef6f6a07e16ec8'),\n",
      " 'firstname': 'Gerty',\n",
      " 'prizes': [{'year': '1947'}],\n",
      " 'surname': 'Cori'}\n",
      "{'_id': ObjectId('62909dbe45ef6f6a07e16dc3'),\n",
      " 'firstname': 'Maria',\n",
      " 'prizes': [{'year': '1963'}],\n",
      " 'surname': 'Goeppert Mayer'}\n",
      "{'_id': ObjectId('62909dbe45ef6f6a07e16e57'),\n",
      " 'firstname': 'Dorothy Crowfoot',\n",
      " 'prizes': [{'year': '1964'}],\n",
      " 'surname': 'Hodgkin'}\n",
      "{'_id': ObjectId('62909dbe45ef6f6a07e16fe1'),\n",
      " 'firstname': 'Nelly',\n",
      " 'prizes': [{'year': '1966'}],\n",
      " 'surname': 'Sachs'}\n",
      "{'_id': ObjectId('62909dbe45ef6f6a07e16f83'),\n",
      " 'firstname': 'Betty',\n",
      " 'prizes': [{'year': '1976'}],\n",
      " 'surname': 'Williams'}\n",
      "{'_id': ObjectId('62909dbe45ef6f6a07e16f84'),\n",
      " 'firstname': 'Mairead',\n",
      " 'prizes': [{'year': '1976'}],\n",
      " 'surname': 'Corrigan'}\n",
      "{'_id': ObjectId('62909dbe45ef6f6a07e16f0d'),\n",
      " 'firstname': 'Rosalyn',\n",
      " 'prizes': [{'year': '1977'}],\n",
      " 'surname': 'Yalow'}\n",
      "{'_id': ObjectId('62909dbe45ef6f6a07e16f88'),\n",
      " 'firstname': 'Anjezë Gonxhe',\n",
      " 'prizes': [{'year': '1979'}],\n",
      " 'surname': 'Bojaxhiu'}\n",
      "{'_id': ObjectId('62909dbe45ef6f6a07e16f8a'),\n",
      " 'firstname': 'Alva',\n",
      " 'prizes': [{'year': '1982'}],\n",
      " 'surname': 'Myrdal'}\n",
      "{'_id': ObjectId('62909dbe45ef6f6a07e16f1c'),\n",
      " 'firstname': 'Barbara',\n",
      " 'prizes': [{'year': '1983'}],\n",
      " 'surname': 'McClintock'}\n",
      "{'_id': ObjectId('62909dbe45ef6f6a07e16f23'),\n",
      " 'firstname': 'Rita',\n",
      " 'prizes': [{'year': '1986'}],\n",
      " 'surname': 'Levi-Montalcini'}\n",
      "{'_id': ObjectId('62909dbe45ef6f6a07e16f26'),\n",
      " 'firstname': 'Gertrude B.',\n",
      " 'prizes': [{'year': '1988'}],\n",
      " 'surname': 'Elion'}\n",
      "{'_id': ObjectId('62909dbe45ef6f6a07e16f94'),\n",
      " 'firstname': 'Aung San Suu Kyi',\n",
      " 'prizes': [{'year': '1991'}]}\n",
      "{'_id': ObjectId('62909dbe45ef6f6a07e16ffb'),\n",
      " 'firstname': 'Nadine',\n",
      " 'prizes': [{'year': '1991'}],\n",
      " 'surname': 'Gordimer'}\n",
      "{'_id': ObjectId('62909dbe45ef6f6a07e16f95'),\n",
      " 'firstname': 'Rigoberta',\n",
      " 'prizes': [{'year': '1992'}],\n",
      " 'surname': 'Menchú Tum'}\n",
      "{'_id': ObjectId('62909dbe45ef6f6a07e16ffd'),\n",
      " 'firstname': 'Toni',\n",
      " 'prizes': [{'year': '1993'}],\n",
      " 'surname': 'Morrison'}\n",
      "{'_id': ObjectId('62909dbe45ef6f6a07e16f35'),\n",
      " 'firstname': 'Christiane',\n",
      " 'prizes': [{'year': '1995'}],\n",
      " 'surname': 'Nüsslein-Volhard'}\n",
      "{'_id': ObjectId('62909dbe45ef6f6a07e17000'),\n",
      " 'firstname': 'Wislawa',\n",
      " 'prizes': [{'year': '1996'}],\n",
      " 'surname': 'Szymborska'}\n",
      "{'_id': ObjectId('62909dbe45ef6f6a07e16fa0'),\n",
      " 'firstname': 'Jody',\n",
      " 'prizes': [{'year': '1997'}],\n",
      " 'surname': 'Williams'}\n",
      "{'_id': ObjectId('62909dbe45ef6f6a07e17064'),\n",
      " 'firstname': 'Shirin',\n",
      " 'prizes': [{'year': '2003'}],\n",
      " 'surname': 'Ebadi'}\n",
      "{'_id': ObjectId('62909dbe45ef6f6a07e17066'),\n",
      " 'firstname': 'Linda B.',\n",
      " 'prizes': [{'year': '2004'}],\n",
      " 'surname': 'Buck'}\n",
      "{'_id': ObjectId('62909dbe45ef6f6a07e1706d'),\n",
      " 'firstname': 'Elfriede',\n",
      " 'prizes': [{'year': '2004'}],\n",
      " 'surname': 'Jelinek'}\n",
      "{'_id': ObjectId('62909dbe45ef6f6a07e1706e'),\n",
      " 'firstname': 'Wangari',\n",
      " 'prizes': [{'year': '2004'}],\n",
      " 'surname': 'Maathai'}\n",
      "{'_id': ObjectId('62909dbe45ef6f6a07e1708d'),\n",
      " 'firstname': 'Doris',\n",
      " 'prizes': [{'year': '2007'}],\n",
      " 'surname': 'Lessing'}\n",
      "{'_id': ObjectId('62909dbe45ef6f6a07e17094'),\n",
      " 'firstname': 'Françoise',\n",
      " 'prizes': [{'year': '2008'}],\n",
      " 'surname': 'Barré-Sinoussi'}\n",
      "{'_id': ObjectId('62909dbe45ef6f6a07e1709f'),\n",
      " 'firstname': 'Elizabeth H.',\n",
      " 'prizes': [{'year': '2009'}],\n",
      " 'surname': 'Blackburn'}\n",
      "{'_id': ObjectId('62909dbe45ef6f6a07e170a0'),\n",
      " 'firstname': 'Carol W.',\n",
      " 'prizes': [{'year': '2009'}],\n",
      " 'surname': 'Greider'}\n",
      "{'_id': ObjectId('62909dbe45ef6f6a07e170a7'),\n",
      " 'firstname': 'Ada E.',\n",
      " 'prizes': [{'year': '2009'}],\n",
      " 'surname': 'Yonath'}\n",
      "{'_id': ObjectId('62909dbe45ef6f6a07e170a8'),\n",
      " 'firstname': 'Herta',\n",
      " 'prizes': [{'year': '2009'}],\n",
      " 'surname': 'Müller'}\n",
      "{'_id': ObjectId('62909dbe45ef6f6a07e170aa'),\n",
      " 'firstname': 'Elinor',\n",
      " 'prizes': [{'year': '2009'}],\n",
      " 'surname': 'Ostrom'}\n",
      "{'_id': ObjectId('62909dbe45ef6f6a07e170bf'),\n",
      " 'firstname': 'Ellen',\n",
      " 'prizes': [{'year': '2011'}],\n",
      " 'surname': 'Johnson Sirleaf'}\n",
      "{'_id': ObjectId('62909dbe45ef6f6a07e170c0'),\n",
      " 'firstname': 'Leymah',\n",
      " 'prizes': [{'year': '2011'}],\n",
      " 'surname': 'Gbowee'}\n",
      "{'_id': ObjectId('62909dbe45ef6f6a07e170c1'),\n",
      " 'firstname': 'Tawakkol',\n",
      " 'prizes': [{'year': '2011'}],\n",
      " 'surname': 'Karman'}\n",
      "{'_id': ObjectId('62909dbe45ef6f6a07e170d6'),\n",
      " 'firstname': 'Alice',\n",
      " 'prizes': [{'year': '2013'}],\n",
      " 'surname': 'Munro'}\n",
      "{'_id': ObjectId('62909dbe45ef6f6a07e170dc'),\n",
      " 'firstname': 'May-Britt',\n",
      " 'prizes': [{'year': '2014'}],\n",
      " 'surname': 'Moser'}\n",
      "{'_id': ObjectId('62909dbe45ef6f6a07e170e6'),\n",
      " 'firstname': 'Malala',\n",
      " 'prizes': [{'year': '2014'}],\n",
      " 'surname': 'Yousafzai'}\n",
      "{'_id': ObjectId('62909dbe45ef6f6a07e170ea'),\n",
      " 'firstname': 'Youyou',\n",
      " 'prizes': [{'year': '2015'}],\n",
      " 'surname': 'Tu'}\n",
      "{'_id': ObjectId('62909dbe45ef6f6a07e170f0'),\n",
      " 'firstname': 'Svetlana',\n",
      " 'prizes': [{'year': '2015'}],\n",
      " 'surname': 'Alexievich'}\n",
      "{'_id': ObjectId('62909dbe45ef6f6a07e1710e'),\n",
      " 'firstname': 'Donna',\n",
      " 'prizes': [{'year': '2018'}],\n",
      " 'surname': 'Strickland'}\n",
      "{'_id': ObjectId('62909dbe45ef6f6a07e1710f'),\n",
      " 'firstname': 'Frances H.',\n",
      " 'prizes': [{'year': '2018'}],\n",
      " 'surname': 'Arnold'}\n",
      "{'_id': ObjectId('62909dbe45ef6f6a07e17113'),\n",
      " 'firstname': 'Nadia',\n",
      " 'prizes': [{'year': '2018'}],\n",
      " 'surname': 'Murad'}\n",
      "{'_id': ObjectId('62909dbe45ef6f6a07e1711f'),\n",
      " 'firstname': 'Olga',\n",
      " 'prizes': [{'year': '2018'}],\n",
      " 'surname': 'Tokarczuk'}\n",
      "{'_id': ObjectId('62909dbe45ef6f6a07e17123'),\n",
      " 'firstname': 'Esther',\n",
      " 'prizes': [{'year': '2019'}],\n",
      " 'surname': 'Duflo'}\n",
      "{'_id': ObjectId('62909dbe45ef6f6a07e1712a'),\n",
      " 'firstname': 'Andrea',\n",
      " 'prizes': [{'year': '2020'}],\n",
      " 'surname': 'Ghez'}\n",
      "{'_id': ObjectId('62909dbe45ef6f6a07e1712b'),\n",
      " 'firstname': 'Emmanuelle',\n",
      " 'prizes': [{'year': '2020'}],\n",
      " 'surname': 'Charpentier'}\n",
      "{'_id': ObjectId('62909dbe45ef6f6a07e1712c'),\n",
      " 'firstname': 'Jennifer A.',\n",
      " 'prizes': [{'year': '2020'}],\n",
      " 'surname': 'Doudna'}\n",
      "{'_id': ObjectId('62909dbe45ef6f6a07e1712d'),\n",
      " 'firstname': 'Louise',\n",
      " 'prizes': [{'year': '2020'}],\n",
      " 'surname': 'Glück'}\n",
      "{'_id': ObjectId('62909dbe45ef6f6a07e17139'),\n",
      " 'firstname': 'Maria',\n",
      " 'prizes': [{'year': '2021'}],\n",
      " 'surname': 'Ressa'}\n"
     ]
    }
   ],
   "source": [
    "# TODO: Find only female nobel laureates \n",
    "# and sort them according the the prize year in ascending order\n",
    "# print year of the first prize, firstname, and surename\n",
    "cursor = db.laureates.find({'gender':'female'},{'prizes.year':1,'firstname':1,'surname':1}).sort('prizes.year',1)\n",
    "for document in cursor:\n",
    "    pprint(document)"
   ]
  }
 ],
 "metadata": {
  "celltoolbar": "Raw Cell Format",
  "kernelspec": {
   "display_name": "Python 3",
   "language": "python",
   "name": "python3"
  },
  "language_info": {
   "codemirror_mode": {
    "name": "ipython",
    "version": 3
   },
   "file_extension": ".py",
   "mimetype": "text/x-python",
   "name": "python",
   "nbconvert_exporter": "python",
   "pygments_lexer": "ipython3",
   "version": "3.8.8"
  },
  "varInspector": {
   "cols": {
    "lenName": 16,
    "lenType": 16,
    "lenVar": 40
   },
   "kernels_config": {
    "python": {
     "delete_cmd_postfix": "",
     "delete_cmd_prefix": "del ",
     "library": "var_list.py",
     "varRefreshCmd": "print(var_dic_list())"
    },
    "r": {
     "delete_cmd_postfix": ") ",
     "delete_cmd_prefix": "rm(",
     "library": "var_list.r",
     "varRefreshCmd": "cat(var_dic_list()) "
    }
   },
   "types_to_exclude": [
    "module",
    "function",
    "builtin_function_or_method",
    "instance",
    "_Feature"
   ],
   "window_display": false
  }
 },
 "nbformat": 4,
 "nbformat_minor": 2
}
